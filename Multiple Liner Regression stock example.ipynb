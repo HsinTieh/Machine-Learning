{
 "cells": [
  {
   "cell_type": "markdown",
   "metadata": {},
   "source": [
    "# HW1_2:Multiple liner regression example (stock)"
   ]
  },
  {
   "cell_type": "code",
   "execution_count": 1,
   "metadata": {},
   "outputs": [],
   "source": [
    "import numpy as np\n",
    "import pandas as pd\n",
    "import matplotlib.pyplot as plt\n",
    "import math\n",
    "import datetime\n",
    "from sklearn.model_selection import cross_val_score,train_test_split\n",
    "from sklearn import preprocessing\n",
    "from sklearn.linear_model import LinearRegression"
   ]
  },
  {
   "cell_type": "markdown",
   "metadata": {},
   "source": [
    "# step1: 讀取資料"
   ]
  },
  {
   "cell_type": "code",
   "execution_count": 2,
   "metadata": {},
   "outputs": [
    {
     "data": {
      "text/plain": [
       "pandas.core.frame.DataFrame"
      ]
     },
     "execution_count": 2,
     "metadata": {},
     "output_type": "execute_result"
    }
   ],
   "source": [
    "df=pd.read_csv('2330.csv',index_col='Date',parse_dates=True)\n",
    "type(df)"
   ]
  },
  {
   "cell_type": "code",
   "execution_count": 3,
   "metadata": {},
   "outputs": [
    {
     "name": "stdout",
     "output_type": "stream",
     "text": [
      "<class 'pandas.core.frame.DataFrame'>\n",
      "DatetimeIndex: 8 entries, 2019-02-18 to 2019-02-27\n",
      "Data columns (total 6 columns):\n",
      "Open         8 non-null float64\n",
      "High         8 non-null float64\n",
      "Low          8 non-null float64\n",
      "Close        8 non-null float64\n",
      "Adj Close    8 non-null float64\n",
      "Volume       8 non-null int64\n",
      "dtypes: float64(5), int64(1)\n",
      "memory usage: 448.0 bytes\n",
      "None\n",
      "             Open        High         Low      Close  Adj Close         Volume\n",
      "count    8.000000    8.000000    8.000000    8.00000    8.00000       8.000000\n",
      "mean   185.375000  189.500000  183.000000  187.00000  187.00000  241587.500000\n",
      "std      5.343554    5.830952    4.720775    6.23355    6.23355   81485.711938\n",
      "min    178.000000  182.000000  178.000000  178.00000  178.00000  137400.000000\n",
      "25%    182.000000  184.750000  180.250000  182.00000  182.00000  171400.000000\n",
      "50%    183.500000  189.000000  181.000000  187.00000  187.00000  243850.000000\n",
      "75%    190.250000  194.250000  186.750000  191.50000  191.50000  314425.000000\n",
      "max    193.000000  198.000000  190.000000  196.00000  196.00000  336700.000000\n"
     ]
    },
    {
     "data": {
      "text/html": [
       "<div>\n",
       "<style scoped>\n",
       "    .dataframe tbody tr th:only-of-type {\n",
       "        vertical-align: middle;\n",
       "    }\n",
       "\n",
       "    .dataframe tbody tr th {\n",
       "        vertical-align: top;\n",
       "    }\n",
       "\n",
       "    .dataframe thead th {\n",
       "        text-align: right;\n",
       "    }\n",
       "</style>\n",
       "<table border=\"1\" class=\"dataframe\">\n",
       "  <thead>\n",
       "    <tr style=\"text-align: right;\">\n",
       "      <th></th>\n",
       "      <th>Open</th>\n",
       "      <th>High</th>\n",
       "      <th>Low</th>\n",
       "      <th>Close</th>\n",
       "      <th>Adj Close</th>\n",
       "      <th>Volume</th>\n",
       "    </tr>\n",
       "    <tr>\n",
       "      <th>Date</th>\n",
       "      <th></th>\n",
       "      <th></th>\n",
       "      <th></th>\n",
       "      <th></th>\n",
       "      <th></th>\n",
       "      <th></th>\n",
       "    </tr>\n",
       "  </thead>\n",
       "  <tbody>\n",
       "    <tr>\n",
       "      <th>2019-02-18</th>\n",
       "      <td>182.0</td>\n",
       "      <td>182.0</td>\n",
       "      <td>178.0</td>\n",
       "      <td>178.0</td>\n",
       "      <td>178.0</td>\n",
       "      <td>150100</td>\n",
       "    </tr>\n",
       "    <tr>\n",
       "      <th>2019-02-19</th>\n",
       "      <td>178.0</td>\n",
       "      <td>187.0</td>\n",
       "      <td>178.0</td>\n",
       "      <td>185.0</td>\n",
       "      <td>185.0</td>\n",
       "      <td>219400</td>\n",
       "    </tr>\n",
       "    <tr>\n",
       "      <th>2019-02-20</th>\n",
       "      <td>185.0</td>\n",
       "      <td>185.0</td>\n",
       "      <td>181.0</td>\n",
       "      <td>182.0</td>\n",
       "      <td>182.0</td>\n",
       "      <td>137400</td>\n",
       "    </tr>\n",
       "    <tr>\n",
       "      <th>2019-02-21</th>\n",
       "      <td>182.0</td>\n",
       "      <td>184.0</td>\n",
       "      <td>181.0</td>\n",
       "      <td>182.0</td>\n",
       "      <td>182.0</td>\n",
       "      <td>178500</td>\n",
       "    </tr>\n",
       "    <tr>\n",
       "      <th>2019-02-22</th>\n",
       "      <td>182.0</td>\n",
       "      <td>191.0</td>\n",
       "      <td>181.0</td>\n",
       "      <td>189.0</td>\n",
       "      <td>189.0</td>\n",
       "      <td>334600</td>\n",
       "    </tr>\n",
       "  </tbody>\n",
       "</table>\n",
       "</div>"
      ],
      "text/plain": [
       "             Open   High    Low  Close  Adj Close  Volume\n",
       "Date                                                     \n",
       "2019-02-18  182.0  182.0  178.0  178.0      178.0  150100\n",
       "2019-02-19  178.0  187.0  178.0  185.0      185.0  219400\n",
       "2019-02-20  185.0  185.0  181.0  182.0      182.0  137400\n",
       "2019-02-21  182.0  184.0  181.0  182.0      182.0  178500\n",
       "2019-02-22  182.0  191.0  181.0  189.0      189.0  334600"
      ]
     },
     "execution_count": 3,
     "metadata": {},
     "output_type": "execute_result"
    }
   ],
   "source": [
    "print(df.info())\n",
    "len(df)\n",
    "print(df.describe())\n",
    "df.head(5)"
   ]
  },
  {
   "cell_type": "code",
   "execution_count": 4,
   "metadata": {},
   "outputs": [],
   "source": [
    "df=df[['Open','High','Low','Close','Volume']]\n",
    "#df['HL_PCT']=(df['High']-df['Low'])/df['Close']*100.0\n",
    "#df['PCT_change']=(df['Close']-df['Open'])/df['Open']*100.0\n",
    "#df=df[['Close','HL_PCT','PCT_change','Volume']]\n",
    "print(df.head())\n",
    "\n",
    "#x=df[['Open','High','Low','Close','Adj Close']]\n",
    "#y=df['Volume']"
   ]
  },
  {
   "cell_type": "markdown",
   "metadata": {},
   "source": [
    "# 前處理"
   ]
  },
  {
   "cell_type": "markdown",
   "metadata": {},
   "source": [
    "# 對空數據進行處理，並對Close的股票Value進行預測\n"
   ]
  },
  {
   "cell_type": "code",
   "execution_count": 5,
   "metadata": {},
   "outputs": [],
   "source": [
    "forecast_col = 'Close'\n",
    "df.fillna(value=-99999, inplace=True)#不創建新格，直接在原格上修改\n",
    "#預測forecast_out天後的\n",
    "forecast_out = int(math.ceil(0.01 * len(df)))\n"
   ]
  },
  {
   "cell_type": "markdown",
   "metadata": {},
   "source": [
    "# step2 : fature engineering(data preprocessing-data,outline,normalization,find efficient feature, split training and value )"
   ]
  },
  {
   "cell_type": "code",
   "execution_count": 6,
   "metadata": {},
   "outputs": [
    {
     "name": "stdout",
     "output_type": "stream",
     "text": [
      "(8, 6)\n",
      "             Open   High    Low  Close  Volume  label\n",
      "Date                                                 \n",
      "2019-02-21  182.0  184.0  181.0  182.0  178500  189.0\n",
      "2019-02-22  182.0  191.0  181.0  189.0  334600  193.0\n",
      "2019-02-25  190.0  194.0  186.0  193.0  307700  191.0\n",
      "2019-02-26  193.0  195.0  189.0  191.0  336700  196.0\n",
      "2019-02-27  191.0  198.0  190.0  196.0  268300    NaN\n",
      "[[-0.67521104 -1.37504775 -1.13227703 -1.54348727 -1.20026259]\n",
      " [-1.47546115 -0.45834925 -1.13227703 -0.34299717 -0.29108705]\n",
      " [-0.07502345 -0.82502865 -0.45291081 -0.85749293 -1.36687917]\n",
      " [-0.67521104 -1.00836835 -0.45291081 -0.85749293 -0.82767117]\n",
      " [-0.67521104  0.27500955 -0.45291081  0.34299717  1.2202697 ]\n",
      " [ 0.9252892   0.82502865  0.67936622  1.02899151  0.8673574 ]\n",
      " [ 1.52547679  1.00836835  1.35873244  0.68599434  1.24782047]]\n",
      "[[1.12535173 1.55838744 1.58518785 1.54348727 0.3504524 ]]\n",
      "(7, 5)\n",
      "(7,)\n"
     ]
    }
   ],
   "source": [
    "df['label'] = df[forecast_col].shift(-forecast_out)\n",
    "print(df.shape)\n",
    "print(df.tail())\n",
    "X = np.array(df.drop(['label'], 1))#刪除label 列\n",
    "X = preprocessing.scale(X) #將數據標準化\n",
    "X_lately = X[-forecast_out:]\n",
    "X = X[:-forecast_out]\n",
    "df.dropna(inplace=True)\n",
    "print(X)\n",
    "print(X_lately)\n",
    "y = np.array(df['label'])\n",
    "#print(y)\n",
    "print(X.shape)\n",
    "print(y.shape)"
   ]
  },
  {
   "cell_type": "code",
   "execution_count": 7,
   "metadata": {},
   "outputs": [
    {
     "name": "stdout",
     "output_type": "stream",
     "text": [
      "            Open      High       Low     Close    Volume     label\n",
      "Open    1.000000  0.720028  0.953491  0.630970  0.519353  0.658476\n",
      "High    0.720028  1.000000  0.842217  0.979481  0.932828  0.757066\n",
      "Low     0.953491  0.842217  1.000000  0.776404  0.682854  0.776404\n",
      "Close   0.630970  0.979481  0.776404  1.000000  0.919833  0.705414\n",
      "Volume  0.519353  0.932828  0.682854  0.919833  1.000000  0.838997\n",
      "label   0.658476  0.757066  0.776404  0.705414  0.838997  1.000000\n"
     ]
    },
    {
     "data": {
      "image/png": "[encoded data removed]",
      "text/plain": [
       "<Figure size 288x288 with 1 Axes>"
      ]
     },
     "metadata": {
      "needs_background": "light"
     },
     "output_type": "display_data"
    }
   ],
   "source": [
    "#資料的相關性\n",
    "print(df.corr())\n",
    "plt.matshow(df.corr())\n",
    "plt.show()"
   ]
  },
  {
   "cell_type": "markdown",
   "metadata": {},
   "source": [
    "# step3: build prediction model"
   ]
  },
  {
   "cell_type": "code",
   "execution_count": 8,
   "metadata": {},
   "outputs": [
    {
     "name": "stdout",
     "output_type": "stream",
     "text": [
      "0.6786753223007335\n",
      "188.57658333685208\n",
      "[-0.64114696 -7.85078521  8.76274853 -4.65023312  9.59895051]\n"
     ]
    }
   ],
   "source": [
    "\n",
    "X_train, X_test, y_train ,y_test = train_test_split(X,y,test_size=0.2)\n",
    "model = LinearRegression()\n",
    "model.fit(X_train,y_train)\n",
    "accuracy = model.score(X_test,y_test)\n",
    "\n",
    "print(accuracy)\n",
    "print(model.intercept_)\n",
    "print(model.coef_)"
   ]
  },
  {
   "cell_type": "markdown",
   "metadata": {},
   "source": [
    "# step4: 預測結果"
   ]
  },
  {
   "cell_type": "code",
   "execution_count": 9,
   "metadata": {},
   "outputs": [
    {
     "name": "stdout",
     "output_type": "stream",
     "text": [
      "[200.37600928 185.53915286]\n",
      "<class 'numpy.ndarray'>\n",
      "[200.37600928 185.53915286] 0.6786753223007335 1\n"
     ]
    }
   ],
   "source": [
    "#預測test set\n",
    "y_pred = model.predict(X_test)\n",
    "print(y_pred)\n",
    "print(type(y_pred))\n",
    "print(y_pred,accuracy,forecast_out)"
   ]
  },
  {
   "cell_type": "code",
   "execution_count": 10,
   "metadata": {},
   "outputs": [
    {
     "name": "stdout",
     "output_type": "stream",
     "text": [
      "<class 'numpy.ndarray'> <class 'numpy.ndarray'>\n",
      "2 2\n",
      "(2,) (2,)\n"
     ]
    }
   ],
   "source": [
    "print(type(y_pred),type(y_test))\n",
    "print(len(y_pred),len(y_test))\n",
    "print(y_pred.shape,y_test.shape)"
   ]
  },
  {
   "cell_type": "code",
   "execution_count": 11,
   "metadata": {},
   "outputs": [
    {
     "name": "stdout",
     "output_type": "stream",
     "text": [
      "RMSE:  3.117702920485339\n"
     ]
    }
   ],
   "source": [
    "#計算test set 的RMSE\n",
    "from sklearn import metrics\n",
    "print (\"RMSE: \",np.sqrt(metrics.mean_squared_error(y_test, y_pred)))\n"
   ]
  },
  {
   "cell_type": "markdown",
   "metadata": {},
   "source": [
    "# 預測值與誤差值的關係圖"
   ]
  },
  {
   "cell_type": "code",
   "execution_count": 12,
   "metadata": {},
   "outputs": [
    {
     "data": {
      "image/png": "[encoded data removed]",
      "text/plain": [
       "<Figure size 432x288 with 1 Axes>"
      ]
     },
     "metadata": {
      "needs_background": "light"
     },
     "output_type": "display_data"
    }
   ],
   "source": [
    "plt.figure()\n",
    "\n",
    "plt.plot(range(len(y_pred)),y_pred,'b',label=\"predict\")\n",
    "plt.plot(range(len(y_pred)),y_test,'r',label=\"test\")\n",
    "plt.legend(loc=\"upper right\") \n",
    "\n",
    "plt.show()"
   ]
  },
  {
   "cell_type": "markdown",
   "metadata": {},
   "source": [
    "# 預測未來的股票趨勢"
   ]
  },
  {
   "cell_type": "code",
   "execution_count": 13,
   "metadata": {},
   "outputs": [
    {
     "name": "stdout",
     "output_type": "stream",
     "text": [
      "2019-02-26 00:00:00 1551139200.0\n",
      "                      Open   High    Low  Close    Volume  label    Forecast\n",
      "Date                                                                        \n",
      "2019-02-22 00:00:00  182.0  191.0  181.0  189.0  334600.0  193.0         NaN\n",
      "2019-02-25 00:00:00  190.0  194.0  186.0  193.0  307700.0  191.0         NaN\n",
      "2019-02-26 00:00:00  193.0  195.0  189.0  191.0  336700.0  196.0         NaN\n",
      "2019-02-27 08:00:00    NaN    NaN    NaN    NaN       NaN    NaN  200.376009\n",
      "2019-02-28 08:00:00    NaN    NaN    NaN    NaN       NaN    NaN  185.539153\n"
     ]
    },
    {
     "data": {
      "image/png": "[encoded data removed]",
      "text/plain": [
       "<Figure size 432x288 with 1 Axes>"
      ]
     },
     "metadata": {
      "needs_background": "light"
     },
     "output_type": "display_data"
    }
   ],
   "source": [
    "df['Forecast']=np.nan\n",
    "last_date = df.iloc[-1].name\n",
    "last_unix = last_date.timestamp()\n",
    "print(last_date,last_unix)\n",
    "one_day = 86400\n",
    "next_unix = last_unix + one_day\n",
    "\n",
    "for i in y_pred:\n",
    "    next_date = datetime.datetime.fromtimestamp(next_unix)\n",
    "    next_unix += 86400\n",
    "    df.loc[next_date] = [np.nan for _ in range(len(df.columns)-1)]+[i]\n",
    "print(df.tail())\n",
    "\n",
    "plt.figure()\n",
    "\n",
    "plt.plot(df['Forecast'],'b',label=\"Forecast\")\n",
    "plt.plot(df['Close'],'r',label=\"Close\")\n",
    "plt.legend(loc=\"upper right\") \n",
    "\n",
    "plt.show()\n",
    "\n",
    "#df['Close'].plot()\n",
    "#df['Forecast'].plot()\n",
    "#plt.show()"
   ]
  },
  {
   "cell_type": "code",
   "execution_count": null,
   "metadata": {},
   "outputs": [],
   "source": []
  },
  {
   "cell_type": "code",
   "execution_count": null,
   "metadata": {},
   "outputs": [],
   "source": []
  }
 ],
 "metadata": {
  "kernelspec": {
   "display_name": "Python 3",
   "language": "python",
   "name": "python3"
  },
  "language_info": {
   "codemirror_mode": {
    "name": "ipython",
    "version": 3
   },
   "file_extension": ".py",
   "mimetype": "text/x-python",
   "name": "python",
   "nbconvert_exporter": "python",
   "pygments_lexer": "ipython3",
   "version": "3.7.1"
  }
 },
 "nbformat": 4,
 "nbformat_minor": 2
}
